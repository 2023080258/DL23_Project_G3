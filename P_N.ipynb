{
  "nbformat": 4,
  "nbformat_minor": 0,
  "metadata": {
    "colab": {
      "provenance": [],
      "include_colab_link": true
    },
    "kernelspec": {
      "name": "python3",
      "display_name": "Python 3"
    },
    "language_info": {
      "name": "python"
    }
  },
  "cells": [
    {
      "cell_type": "markdown",
      "metadata": {
        "id": "view-in-github",
        "colab_type": "text"
      },
      "source": [
        "<a href=\"https://colab.research.google.com/github/gnyr324/DL23_Project_G3/blob/main/P_N.ipynb\" target=\"_parent\"><img src=\"https://colab.research.google.com/assets/colab-badge.svg\" alt=\"Open In Colab\"/></a>"
      ]
    },
    {
      "cell_type": "code",
      "source": [
        "#@markdown\n",
        "import ipywidgets as widgets\n",
        "from IPython.display import display\n",
        "\n",
        "Question = \"1\" #@param [\"1\", \"2\", \"3\", \"4\", \"5\", \"6\"]\n",
        "\n",
        "# 문제와 답\n",
        "questions_and_answers = {\n",
        "    1: (\"\"\"Conservation science plays a role in revealing historical truth and hidden stories of cultural heritage.\"\"\", True),\n",
        "    2: (\"\"\"Baekje geumdonggwanmo caps were often given to local leaders as rewards for their loyalty.\"\"\", True),\n",
        "    3: (\"\"\"X-ray photography was used by conservation scientists to determine the original form of the cap.\"\"\", True),\n",
        "    4: (\"\"\"During the conservation process, foreign matter and rust were added to the surface of the cap.\"\"\", False),\n",
        "    5: (\"\"\"The cap was repaired and any damaged parts were replaced during the restoration process.\"\"\", True),\n",
        "    6: (\"\"\"The cap lost its original form and shine after the conservation process.\"\"\", False),\n",
        "}\n",
        "# False 문제의 True 답\n",
        "True_of_False_questions = {\n",
        "    4: (\"\"\"During the conservation process, conservation scientists removed foreign matter and rust from the surface and controlled corrosion with a chemical treatment.\"\"\"),\n",
        "    6: (\"\"\"At last, the cap regained its original form and shine.\"\"\")\n",
        "}\n",
        "# 문제 선택\n",
        "if Question.isdigit() and int(Question) in questions_and_answers:\n",
        "    question_number = int(Question)\n",
        "    question_text = questions_and_answers[question_number][0]\n",
        "    print(question_text)\n",
        "\n",
        "    # 정답 입력\n",
        "    while True:\n",
        "        answer_input = input(\"Enter your answer (True/T or False/F): \")\n",
        "        \n",
        "        if answer_input in [\"True\", \"true\", \"T\", \"t\", \"False\", \"false\", \"F\", \"f\"]:\n",
        "            break\n",
        "        else:\n",
        "            print(\"Invalid answer. Please enter True/T or False/F.\")\n",
        "    \n",
        "    # 문제 풀이\n",
        "    solve_question(question_number, answer_input)\n",
        "\n",
        "\n",
        "\n",
        "def solve_question(question, answer_input):\n",
        "    question_text, answer = questions_and_answers[question]\n",
        "    \n",
        "    # 정답 확인\n",
        "    if answer_input in [\"True\", \"true\", \"T\", \"t\"]:\n",
        "        user_answer = True\n",
        "    elif answer_input in [\"False\", \"false\", \"F\", \"f\"]:\n",
        "        user_answer = False\n",
        "    else:\n",
        "        print(\"Invalid answer.\")\n",
        "        return\n",
        "    \n",
        "    # 정답과 오답 텍스트 출력\n",
        "    if user_answer == answer:\n",
        "        print(\"Correct!\")\n",
        "    else:\n",
        "        print(\"Wrong answer.\")\n",
        "        if answer is False:\n",
        "            if question in True_of_False_questions:\n",
        "                print(True_of_False_questions[question])\n"
      ],
      "metadata": {
        "colab": {
          "base_uri": "https://localhost:8080/"
        },
        "id": "1KhCLaCCTNlM",
        "outputId": "17406e00-c77d-47b3-fb0b-361be7724ea9"
      },
      "execution_count": 63,
      "outputs": [
        {
          "output_type": "stream",
          "name": "stdout",
          "text": [
            "Conservation science plays a role in revealing historical truth and hidden stories of cultural heritage.\n",
            "Enter your answer (True/T or False/F): T\n",
            "Correct!\n"
          ]
        }
      ]
    }
  ]
}